{
 "cells": [
  {
   "cell_type": "markdown",
   "metadata": {},
   "source": [
    "# Importing Essential Libraries "
   ]
  },
  {
   "cell_type": "code",
   "execution_count": 1,
   "metadata": {},
   "outputs": [],
   "source": [
    "import tensorflow as tf \n",
    "import sounddevice as sd\n",
    "import soundfile as sf\n",
    "from tensorflow.keras.models import load_model\n",
    "import IPython.display as ipd\n",
    "import numpy as np\n",
    "from scipy.io import wavfile\n",
    "import librosa"
   ]
  },
  {
   "cell_type": "markdown",
   "metadata": {},
   "source": [
    " Now Loading the Mdodel From Root Direcrtory OR you can Give the path like:\"D:/My Models/SpeechModel/SpeechTotext_Model.hdf5\" but Preference is to load from root Directory "
   ]
  },
  {
   "cell_type": "code",
   "execution_count": 2,
   "metadata": {},
   "outputs": [],
   "source": [
    "model = load_model('speechTotext_Model.hdf5')"
   ]
  },
  {
   "cell_type": "markdown",
   "metadata": {},
   "source": [
    "# These are the all labes on which the model has trainded "
   ]
  },
  {
   "cell_type": "code",
   "execution_count": 3,
   "metadata": {},
   "outputs": [],
   "source": [
    "# All samples\n",
    "labels = [    'left', 'cat', 'wow', 'six', 'go', 'one', 'dog', 'nine', 'sheila', 'yes',\n",
    "    'down', 'bird', 'tree', 'up', 'eight', 'bed', 'three', 'on', 'house',\n",
    "    'five', 'seven', 'zero', 'right', 'four', 'no', 'two', 'off', 'happy',   'stop', 'marvin']"
   ]
  },
  {
   "cell_type": "markdown",
   "metadata": {},
   "source": [
    "So before we can run a model, we need to make this Labels ready for the model.\n",
    "And to convert this kind of categorical text data into model-understandable numerical data, we use the Label Encoder class."
   ]
  },
  {
   "cell_type": "code",
   "execution_count": 4,
   "metadata": {},
   "outputs": [],
   "source": [
    "from sklearn.preprocessing import LabelEncoder\n",
    "\n",
    "label_enconder = LabelEncoder()\n",
    "y = label_enconder.fit_transform(labels)\n",
    "classes = list(label_enconder.classes_)"
   ]
  },
  {
   "cell_type": "markdown",
   "metadata": {},
   "source": [
    "This Method Reshape the Audio for model input(1,800,1) and the return the Classes means predicted label"
   ]
  },
  {
   "cell_type": "code",
   "execution_count": 5,
   "metadata": {},
   "outputs": [],
   "source": [
    "def s2t_predict(audio, shape_num=8000):\n",
    "    prob=model.predict(audio.reshape(1,shape_num,1))\n",
    "    index=np.argmax(prob[0])\n",
    "    return classes[index]"
   ]
  },
  {
   "cell_type": "markdown",
   "metadata": {},
   "source": [
    "The give blow Code Take your voice and save it, It starts just after printing the start below and then prints end"
   ]
  },
  {
   "cell_type": "code",
   "execution_count": 7,
   "metadata": {},
   "outputs": [
    {
     "name": "stdout",
     "output_type": "stream",
     "text": [
      "start\n",
      "end\n"
     ]
    }
   ],
   "source": [
    "samplerate = 16000  \n",
    "duration = 1 # seconds\n",
    "filename = 'yes.wav'\n",
    "print(\"start\")\n",
    "mydata = sd.rec(int(samplerate * duration), samplerate=samplerate,\n",
    "    channels=1, blocking=True)\n",
    "print(\"end\")\n",
    "sd.wait()\n",
    "sf.write(filename, mydata, samplerate)"
   ]
  },
  {
   "cell_type": "markdown",
   "metadata": {},
   "source": [
    "This code reading the voice command and play that you have recorded "
   ]
  },
  {
   "cell_type": "code",
   "execution_count": 56,
   "metadata": {},
   "outputs": [
    {
     "name": "stdout",
     "output_type": "stream",
     "text": [
      "(8000,)\n"
     ]
    },
    {
     "data": {
      "text/html": [
       "\n",
       "                <audio controls=\"controls\" >\n",
       "                    <source src=\"data:audio/wav;base64,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\" type=\"audio/wav\" />\n",
       "                    Your browser does not support the audio element.\n",
       "                </audio>\n",
       "              "
      ],
      "text/plain": [
       "<IPython.lib.display.Audio object>"
      ]
     },
     "execution_count": 56,
     "metadata": {},
     "output_type": "execute_result"
    }
   ],
   "source": [
    "test, test_rate = librosa.load('yes.wav', sr = 16000)\n",
    "test_sample = librosa.resample(test, test_rate, 8000)\n",
    "print(test_sample.shape)\n",
    "ipd.Audio(test_sample,rate=8000)    "
   ]
  },
  {
   "cell_type": "markdown",
   "metadata": {},
   "source": [
    "Here we are calling the methond to Predict the voice command,It converts your speech into text"
   ]
  },
  {
   "cell_type": "code",
   "execution_count": 57,
   "metadata": {},
   "outputs": [
    {
     "data": {
      "text/plain": [
       "'one'"
      ]
     },
     "execution_count": 57,
     "metadata": {},
     "output_type": "execute_result"
    }
   ],
   "source": [
    "s2t_predict(test_sample)"
   ]
  }
 ],
 "metadata": {
  "kernelspec": {
   "display_name": "Python 3",
   "language": "python",
   "name": "python3"
  },
  "language_info": {
   "codemirror_mode": {
    "name": "ipython",
    "version": 3
   },
   "file_extension": ".py",
   "mimetype": "text/x-python",
   "name": "python",
   "nbconvert_exporter": "python",
   "pygments_lexer": "ipython3",
   "version": "3.7.3"
  }
 },
 "nbformat": 4,
 "nbformat_minor": 2
}
